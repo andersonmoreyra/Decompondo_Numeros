{
 "cells": [
  {
   "cell_type": "code",
   "execution_count": null,
   "id": "b7b72b8d",
   "metadata": {},
   "outputs": [],
   "source": [
    "'''Complete a seguinte função para que a mesma devolva todos os possíveis números de 4 dígitos, \n",
    "onde cada um seja menor ou igual ao numero desejado, e a soma dos dígitos de cada numero gerado seja 21. \n",
    "Exemplo com digito = 6 : 3666,4566, 5556.'''"
   ]
  },
  {
   "cell_type": "code",
   "execution_count": null,
   "id": "b8b84e83",
   "metadata": {},
   "outputs": [],
   "source": [
    "def devolva(dig):\n",
    "    lista = []\n",
    "    lista_soma = []\n",
    "    dig_aux = 0\n",
    "    if dig > 18:\n",
    "        dig_aux = 18\n",
    "    else:\n",
    "        dig_aux = dig\n",
    "    for i in range (dig_aux):\n",
    "        if (i+1) <= 18:\n",
    "            aux = i+1\n",
    "            lista.append(aux)\n",
    "          \n",
    "    for i in range(len(lista)):\n",
    "        for j in range(len(lista)):\n",
    "            for x in range(len(lista)):\n",
    "                for y in range(len(lista)):\n",
    "                    aux = lista[i]+lista[j]+lista[x]+lista[y]\n",
    "                    if aux == 21:\n",
    "                        ordena = sorted([lista[i],lista[j],lista[x],lista[y]])\n",
    "                        if ordena not in lista_soma:\n",
    "                            lista_soma.append(ordena)\n",
    "                            \n",
    "    for i in range(len(lista_soma)):\n",
    "        print(*lista_soma[i], sep='')\n",
    "\n",
    "    #return lista_soma\n",
    "\n",
    "print(devolva(6))"
   ]
  }
 ],
 "metadata": {
  "kernelspec": {
   "display_name": "Python 3 (ipykernel)",
   "language": "python",
   "name": "python3"
  },
  "language_info": {
   "codemirror_mode": {
    "name": "ipython",
    "version": 3
   },
   "file_extension": ".py",
   "mimetype": "text/x-python",
   "name": "python",
   "nbconvert_exporter": "python",
   "pygments_lexer": "ipython3",
   "version": "3.9.7"
  }
 },
 "nbformat": 4,
 "nbformat_minor": 5
}
